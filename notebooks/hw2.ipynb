{
 "cells": [
  {
   "cell_type": "code",
   "execution_count": 1,
   "id": "da80ccd5",
   "metadata": {},
   "outputs": [],
   "source": [
    "import pandas as pd \n",
    "import numpy as np\n",
    "import seaborn as sns\n",
    "from matplotlib import pyplot as plt\n",
    "%matplotlib inline"
   ]
  },
  {
   "cell_type": "code",
   "execution_count": 2,
   "id": "718caa48",
   "metadata": {},
   "outputs": [],
   "source": [
    "df = pd.read_csv(\"./housing.csv\")"
   ]
  },
  {
   "cell_type": "code",
   "execution_count": 3,
   "id": "326b845b",
   "metadata": {},
   "outputs": [
    {
     "data": {
      "image/png": "[encoded data removed]",
      "text/plain": [
       "<Figure size 600x400 with 1 Axes>"
      ]
     },
     "metadata": {},
     "output_type": "display_data"
    }
   ],
   "source": [
    "# EDA \n",
    "\n",
    "plt.figure(figsize=(6, 4))\n",
    "\n",
    "sns.histplot(df.median_house_value, bins=40, color='black', alpha=1)\n",
    "plt.ylabel('Frequency')\n",
    "plt.xlabel('Price')\n",
    "plt.title('Distribution of median_house_value')\n",
    "\n",
    "plt.show()"
   ]
  },
  {
   "cell_type": "code",
   "execution_count": 4,
   "id": "6938519c",
   "metadata": {},
   "outputs": [],
   "source": [
    "selected_df = df[(df['ocean_proximity']=='<1H OCEAN')|(df['ocean_proximity']=='INLAND')][['latitude',\n",
    "                                                                            'longitude',\n",
    "                                                                            'housing_median_age',\n",
    "                                                                            'total_rooms',\n",
    "                                                                            'total_bedrooms',\n",
    "                                                                            'population',\n",
    "                                                                            'households',\n",
    "                                                                            'median_income',\n",
    "                                                                            'median_house_value']]"
   ]
  },
  {
   "cell_type": "code",
   "execution_count": 5,
   "id": "f85255ee",
   "metadata": {},
   "outputs": [
    {
     "name": "stdout",
     "output_type": "stream",
     "text": [
      "latitude                0\n",
      "longitude               0\n",
      "housing_median_age      0\n",
      "total_rooms             0\n",
      "total_bedrooms        157\n",
      "population              0\n",
      "households              0\n",
      "median_income           0\n",
      "median_house_value      0\n",
      "dtype: int64\n",
      "Q1. feature with missing value:  ['total_bedrooms']\n"
     ]
    }
   ],
   "source": [
    "missing_df = selected_df.isna().sum()\n",
    "print(missing_df)\n",
    "print(\"Q1. feature with missing value: \", missing_df[missing_df>0].index.to_list())"
   ]
  },
  {
   "cell_type": "code",
   "execution_count": 6,
   "id": "c8382592",
   "metadata": {},
   "outputs": [
    {
     "name": "stdout",
     "output_type": "stream",
     "text": [
      "Q2. median for variable 'population':  1195.0\n"
     ]
    }
   ],
   "source": [
    "print(\"Q2. median for variable 'population': \", selected_df['population'].median())"
   ]
  },
  {
   "cell_type": "code",
   "execution_count": 7,
   "id": "4b4e19bd",
   "metadata": {},
   "outputs": [],
   "source": [
    "np.random.seed(42)\n",
    "\n",
    "n = len(selected_df)\n",
    "\n",
    "n_val = int(0.2 * n)\n",
    "n_test = int(0.2 * n)\n",
    "n_train = n - (n_val + n_test)\n",
    "\n",
    "idx = np.arange(n)\n",
    "np.random.shuffle(idx)\n",
    "\n",
    "df_shuffled = selected_df.iloc[idx]\n",
    "\n",
    "df_train = df_shuffled.iloc[:n_train].copy()\n",
    "df_val = df_shuffled.iloc[n_train:n_train+n_val].copy()\n",
    "df_test = df_shuffled.iloc[n_train+n_val:].copy()"
   ]
  },
  {
   "cell_type": "code",
   "execution_count": 8,
   "id": "f878fbb0",
   "metadata": {},
   "outputs": [],
   "source": [
    "y_train_orig = df_train.median_house_value.values\n",
    "y_val_orig = df_val.median_house_value.values\n",
    "y_test_orig = df_test.median_house_value.values\n",
    "\n",
    "y_train = np.log1p(df_train.median_house_value.values)\n",
    "y_val = np.log1p(df_val.median_house_value.values)\n",
    "y_test = np.log1p(df_test.median_house_value.values)\n",
    "\n",
    "del df_train['median_house_value']\n",
    "del df_val['median_house_value']\n",
    "del df_test['median_house_value']"
   ]
  },
  {
   "cell_type": "markdown",
   "id": "7f218bae",
   "metadata": {},
   "source": [
    "### Linear Regression"
   ]
  },
  {
   "cell_type": "code",
   "execution_count": 9,
   "id": "b152a0d3",
   "metadata": {},
   "outputs": [],
   "source": [
    "def train_linear_regression(X, y):\n",
    "    ones = np.ones(X.shape[0])\n",
    "    X = np.column_stack([ones, X])\n",
    "\n",
    "    XTX = X.T.dot(X)\n",
    "    XTX_inv = np.linalg.inv(XTX)\n",
    "    w = XTX_inv.dot(X.T).dot(y)\n",
    "    \n",
    "    return w[0], w[1:]"
   ]
  },
  {
   "cell_type": "markdown",
   "id": "2057fa79",
   "metadata": {},
   "source": [
    "### Baseline solution"
   ]
  },
  {
   "cell_type": "code",
   "execution_count": 10,
   "id": "87919432",
   "metadata": {},
   "outputs": [],
   "source": [
    "base = ['latitude', 'longitude', 'housing_median_age', 'total_rooms',\n",
    "       'total_bedrooms', 'population', 'households', 'median_income']"
   ]
  },
  {
   "cell_type": "code",
   "execution_count": 11,
   "id": "65a19b86",
   "metadata": {},
   "outputs": [],
   "source": [
    "def prepare_X(df, fillna_val):\n",
    "    df_num = df[base]\n",
    "    df_num = df_num.fillna(fillna_val)\n",
    "    X = df_num.values\n",
    "    return X"
   ]
  },
  {
   "cell_type": "code",
   "execution_count": 12,
   "id": "d7aea404",
   "metadata": {},
   "outputs": [],
   "source": [
    "def rmse(y, y_pred):\n",
    "    error = y_pred - y\n",
    "    mse = (error ** 2).mean()\n",
    "    return np.sqrt(mse)"
   ]
  },
  {
   "cell_type": "code",
   "execution_count": 13,
   "id": "59051fcb",
   "metadata": {},
   "outputs": [
    {
     "name": "stdout",
     "output_type": "stream",
     "text": [
      "validation 0.34\n"
     ]
    }
   ],
   "source": [
    "# fillna with 0 \n",
    "X_train = prepare_X(df_train, 0)\n",
    "w_0, w = train_linear_regression(X_train, y_train)\n",
    "\n",
    "X_val = prepare_X(df_val, 0)\n",
    "y_pred = w_0 + X_val.dot(w)\n",
    "print('validation', round(rmse(y_val, y_pred),2))"
   ]
  },
  {
   "cell_type": "code",
   "execution_count": 14,
   "id": "b874d5dd",
   "metadata": {},
   "outputs": [
    {
     "name": "stdout",
     "output_type": "stream",
     "text": [
      "validation 0.34\n"
     ]
    }
   ],
   "source": [
    "# fillna with average total_bedrooms\n",
    "X_train = prepare_X(df_train, df_train['total_bedrooms'].mean())\n",
    "w_0, w = train_linear_regression(X_train, y_train)\n",
    "\n",
    "X_val = prepare_X(df_val, df_train['total_bedrooms'].mean())\n",
    "y_pred = w_0 + X_val.dot(w)\n",
    "print('validation', round(rmse(y_val, y_pred),2))"
   ]
  },
  {
   "cell_type": "code",
   "execution_count": 15,
   "id": "0147ab4e",
   "metadata": {},
   "outputs": [
    {
     "name": "stdout",
     "output_type": "stream",
     "text": [
      "Q3. Both are equally good\n"
     ]
    }
   ],
   "source": [
    "print(\"Q3. Both are equally good\")"
   ]
  },
  {
   "cell_type": "markdown",
   "id": "007f702c",
   "metadata": {},
   "source": [
    "### Regularization"
   ]
  },
  {
   "cell_type": "code",
   "execution_count": 16,
   "id": "65bd240e",
   "metadata": {},
   "outputs": [],
   "source": [
    "def train_linear_regression_reg(X, y, r=0.0):\n",
    "    ones = np.ones(X.shape[0])\n",
    "    X = np.column_stack([ones, X])\n",
    "\n",
    "    XTX = X.T.dot(X)\n",
    "    reg = r * np.eye(XTX.shape[0])\n",
    "    XTX = XTX + reg\n",
    "\n",
    "    XTX_inv = np.linalg.inv(XTX)\n",
    "    w = XTX_inv.dot(X.T).dot(y)\n",
    "    \n",
    "    return w[0], w[1:]"
   ]
  },
  {
   "cell_type": "code",
   "execution_count": 17,
   "id": "495866ff",
   "metadata": {},
   "outputs": [],
   "source": [
    "X_train = prepare_X(df_train, 0)"
   ]
  },
  {
   "cell_type": "code",
   "execution_count": 18,
   "id": "fc71f1c8",
   "metadata": {},
   "outputs": [
    {
     "name": "stdout",
     "output_type": "stream",
     "text": [
      "r =  0\n",
      "validation:  0.3408479034176266 , validation to 2 decimal digits:  0.34\n",
      "r =  1e-06\n",
      "validation:  0.3408479061831008 , validation to 2 decimal digits:  0.34\n",
      "r =  0.0001\n",
      "validation:  0.3408481800530155 , validation to 2 decimal digits:  0.34\n",
      "r =  0.001\n",
      "validation:  0.34085069219092584 , validation to 2 decimal digits:  0.34\n",
      "r =  0.01\n",
      "validation:  0.3408779300484923 , validation to 2 decimal digits:  0.34\n",
      "r =  0.1\n",
      "validation:  0.34128620419919536 , validation to 2 decimal digits:  0.34\n",
      "r =  1\n",
      "validation:  0.3448958327642612 , validation to 2 decimal digits:  0.34\n",
      "r =  5\n",
      "validation:  0.3477398070484778 , validation to 2 decimal digits:  0.35\n",
      "r =  10\n",
      "validation:  0.3483149833518236 , validation to 2 decimal digits:  0.35\n"
     ]
    }
   ],
   "source": [
    "r_rmse_vals = {}\n",
    "for r in [0, 0.000001, 0.0001, 0.001, 0.01, 0.1, 1, 5, 10]:\n",
    "    w_0, w = train_linear_regression_reg(X_train, y_train, r=r)\n",
    "\n",
    "    X_val = prepare_X(df_val, 0)\n",
    "    y_pred = w_0 + X_val.dot(w)\n",
    "    \n",
    "    print(\"r = \", r)\n",
    "    print('validation: ', rmse(y_val, y_pred), ', validation to 2 decimal digits: ', round(rmse(y_val, y_pred),2))\n",
    "    \n",
    "    r_rmse_vals[r] = rmse(y_val, y_pred)"
   ]
  },
  {
   "cell_type": "code",
   "execution_count": 19,
   "id": "46c5ebd9",
   "metadata": {},
   "outputs": [
    {
     "name": "stdout",
     "output_type": "stream",
     "text": [
      "Q4: 0  has the smallest rmse\n"
     ]
    }
   ],
   "source": [
    "print(\"Q4:\", min(r_rmse_vals, key=r_rmse_vals.get), \" has the smallest rmse\")"
   ]
  },
  {
   "cell_type": "code",
   "execution_count": 20,
   "id": "3a1e1f83",
   "metadata": {},
   "outputs": [],
   "source": [
    "def process_with_seed_val(seed_val): \n",
    "    np.random.seed(seed_val)\n",
    "\n",
    "    n = len(selected_df)\n",
    "\n",
    "    n_val = int(0.2 * n)\n",
    "    n_test = int(0.2 * n)\n",
    "    n_train = n - (n_val + n_test)\n",
    "\n",
    "    idx = np.arange(n)\n",
    "    np.random.shuffle(idx)\n",
    "\n",
    "    df_shuffled = selected_df.iloc[idx]\n",
    "\n",
    "    df_train = df_shuffled.iloc[:n_train].copy()\n",
    "    df_val = df_shuffled.iloc[n_train:n_train+n_val].copy()\n",
    "    df_test = df_shuffled.iloc[n_train+n_val:].copy()\n",
    "\n",
    "\n",
    "    y_train_orig = df_train.median_house_value.values\n",
    "    y_val_orig = df_val.median_house_value.values\n",
    "    y_test_orig = df_test.median_house_value.values\n",
    "\n",
    "    y_train = np.log1p(df_train.median_house_value.values)\n",
    "    y_val = np.log1p(df_val.median_house_value.values)\n",
    "    y_test = np.log1p(df_test.median_house_value.values)\n",
    "\n",
    "    del df_train['median_house_value']\n",
    "    del df_val['median_house_value']\n",
    "    del df_test['median_house_value']\n",
    "    \n",
    "    X_train = prepare_X(df_train, 0)\n",
    "    w_0, w = train_linear_regression(X_train, y_train)\n",
    "\n",
    "    X_val = prepare_X(df_val, 0)\n",
    "    y_pred = w_0 + X_val.dot(w)\n",
    "    return rmse(y_val, y_pred)\n",
    "    \n",
    "    "
   ]
  },
  {
   "cell_type": "code",
   "execution_count": 21,
   "id": "e4791d1f",
   "metadata": {},
   "outputs": [
    {
     "name": "stdout",
     "output_type": "stream",
     "text": [
      "Q5 std val:  0.005\n"
     ]
    }
   ],
   "source": [
    "rmse_val_score = []\n",
    "for i in [0, 1, 2, 3, 4, 5, 6, 7, 8, 9]:\n",
    "    rmse_val_score.append(process_with_seed_val(i))\n",
    "    \n",
    "print(\"Q5 std val: \", round(np.array(rmse_val_score).std(),3))"
   ]
  },
  {
   "cell_type": "code",
   "execution_count": 22,
   "id": "0d32d3d0",
   "metadata": {},
   "outputs": [
    {
     "name": "stdout",
     "output_type": "stream",
     "text": [
      "Q6. RMSE on test:  0.33\n"
     ]
    }
   ],
   "source": [
    "np.random.seed(9)\n",
    "\n",
    "n = len(selected_df)\n",
    "\n",
    "n_val = int(0.2 * n)\n",
    "n_test = int(0.2 * n)\n",
    "n_train = n - (n_val + n_test)\n",
    "\n",
    "idx = np.arange(n)\n",
    "np.random.shuffle(idx)\n",
    "\n",
    "df_shuffled = selected_df.iloc[idx]\n",
    "\n",
    "df_train = df_shuffled.iloc[:n_train].copy()\n",
    "df_val = df_shuffled.iloc[n_train:n_train+n_val].copy()\n",
    "df_test = df_shuffled.iloc[n_train+n_val:].copy()\n",
    "\n",
    "\n",
    "y_train_orig = df_train.median_house_value.values\n",
    "y_val_orig = df_val.median_house_value.values\n",
    "y_test_orig = df_test.median_house_value.values\n",
    "\n",
    "y_train = np.log1p(df_train.median_house_value.values)\n",
    "y_val = np.log1p(df_val.median_house_value.values)\n",
    "y_test = np.log1p(df_test.median_house_value.values)\n",
    "\n",
    "del df_train['median_house_value']\n",
    "del df_val['median_house_value']\n",
    "del df_test['median_house_value']\n",
    "\n",
    "X_train = prepare_X(pd.concat([df_train, df_val]), 0)\n",
    "w_0, w = train_linear_regression_reg(X_train, np.append(y_train, y_val), r=0.001)\n",
    "\n",
    "\n",
    "X_test = prepare_X(df_test, 0)\n",
    "y_pred = w_0 + X_test.dot(w)\n",
    "\n",
    "print('Q6. RMSE on test: ', round(rmse(y_test, y_pred),2))"
   ]
  },
  {
   "cell_type": "code",
   "execution_count": null,
   "id": "3887d42f",
   "metadata": {},
   "outputs": [],
   "source": []
  }
 ],
 "metadata": {
  "kernelspec": {
   "display_name": "Python 3 (ipykernel)",
   "language": "python",
   "name": "python3"
  },
  "language_info": {
   "codemirror_mode": {
    "name": "ipython",
    "version": 3
   },
   "file_extension": ".py",
   "mimetype": "text/x-python",
   "name": "python",
   "nbconvert_exporter": "python",
   "pygments_lexer": "ipython3",
   "version": "3.11.4"
  }
 },
 "nbformat": 4,
 "nbformat_minor": 5
}
