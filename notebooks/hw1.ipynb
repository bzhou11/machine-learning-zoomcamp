{
 "cells": [
  {
   "cell_type": "code",
   "execution_count": 1,
   "id": "46650078",
   "metadata": {},
   "outputs": [],
   "source": [
    "import pandas as pd \n",
    "import seaborn\n",
    "import numpy as np \n",
    "from matplotlib import pyplot as plt\n",
    "import seaborn as sns\n",
    "import sklearn"
   ]
  },
  {
   "cell_type": "code",
   "execution_count": 2,
   "id": "521130e0",
   "metadata": {},
   "outputs": [
    {
     "name": "stdout",
     "output_type": "stream",
     "text": [
      "Q1. pandas version:  1.5.3\n"
     ]
    }
   ],
   "source": [
    "print(\"Q1. pandas version: \", pd.__version__) "
   ]
  },
  {
   "cell_type": "code",
   "execution_count": 3,
   "id": "266db0cb",
   "metadata": {},
   "outputs": [],
   "source": [
    "df = pd.read_csv(\"/home/ubuntu/machine-learning-zoomcamp/data/housing.csv\")"
   ]
  },
  {
   "cell_type": "code",
   "execution_count": 4,
   "id": "5c3c73b2",
   "metadata": {},
   "outputs": [
    {
     "name": "stdout",
     "output_type": "stream",
     "text": [
      "Q2. number of columns:  10\n"
     ]
    }
   ],
   "source": [
    "print(\"Q2. number of columns: \", len(df.columns))"
   ]
  },
  {
   "cell_type": "code",
   "execution_count": 5,
   "id": "f1eff2fa",
   "metadata": {},
   "outputs": [
    {
     "name": "stdout",
     "output_type": "stream",
     "text": [
      "longitude               0\n",
      "latitude                0\n",
      "housing_median_age      0\n",
      "total_rooms             0\n",
      "total_bedrooms        207\n",
      "population              0\n",
      "households              0\n",
      "median_income           0\n",
      "median_house_value      0\n",
      "ocean_proximity         0\n",
      "dtype: int64\n",
      "Q3. column 'total_bedrooms' contains missing values\n"
     ]
    }
   ],
   "source": [
    "print(df.isna().sum(axis = 0))\n",
    "print(\"Q3. column 'total_bedrooms' contains missing values\")"
   ]
  },
  {
   "cell_type": "code",
   "execution_count": 6,
   "id": "44757208",
   "metadata": {},
   "outputs": [
    {
     "name": "stdout",
     "output_type": "stream",
     "text": [
      "Q4. ocean_proximity contains  5 unique values\n"
     ]
    }
   ],
   "source": [
    "print(\"Q4. ocean_proximity contains \", df['ocean_proximity'].nunique(), \"unique values\") "
   ]
  },
  {
   "cell_type": "code",
   "execution_count": 7,
   "id": "200cd795",
   "metadata": {},
   "outputs": [
    {
     "name": "stdout",
     "output_type": "stream",
     "text": [
      "Q5 median_house_value mean:  259212.31179039303\n"
     ]
    }
   ],
   "source": [
    "print(\"Q5 median_house_value mean: \", df[df['ocean_proximity']==\"NEAR BAY\"]['median_house_value'].mean())"
   ]
  },
  {
   "cell_type": "code",
   "execution_count": 8,
   "id": "8ad15882",
   "metadata": {},
   "outputs": [
    {
     "name": "stdout",
     "output_type": "stream",
     "text": [
      "Q6. (1) before fillna with mean, total_bedrooms average is  537.8705525375618\n",
      "(3) after fillna with mean, total_bedrooms average is  537.8705525375617\n",
      "(4) No, it does not look changed \n"
     ]
    }
   ],
   "source": [
    "print(\"Q6. (1) before fillna with mean, total_bedrooms average is \", df['total_bedrooms'].mean())\n",
    "df['total_bedrooms'].fillna(value=df['total_bedrooms'].mean(), inplace=True)\n",
    "print(\"(3) after fillna with mean, total_bedrooms average is \", df['total_bedrooms'].mean())\n",
    "print(\"(4) No, it does not look changed \")"
   ]
  },
  {
   "cell_type": "code",
   "execution_count": 9,
   "id": "7ef3b1b9",
   "metadata": {},
   "outputs": [
    {
     "name": "stdout",
     "output_type": "stream",
     "text": [
      "Q7 (3) [[  27. 1675.  521.]\n",
      " [  52. 2359.  591.]\n",
      " [  52. 2127.  512.]\n",
      " [  52.  996.  264.]\n",
      " [  29.  716.  214.]]\n"
     ]
    }
   ],
   "source": [
    "X = np.array(df[df['ocean_proximity']==\"ISLAND\"][['housing_median_age', 'total_rooms', 'total_bedrooms']])\n",
    "print(\"Q7 (3)\", X)"
   ]
  },
  {
   "cell_type": "code",
   "execution_count": 10,
   "id": "0ba147b5",
   "metadata": {},
   "outputs": [
    {
     "name": "stdout",
     "output_type": "stream",
     "text": [
      "[[  27.   52.   52.   52.   29.]\n",
      " [1675. 2359. 2127.  996.  716.]\n",
      " [ 521.  591.  512.  264.  214.]]\n"
     ]
    }
   ],
   "source": [
    "print(X.T)"
   ]
  },
  {
   "cell_type": "code",
   "execution_count": 11,
   "id": "776e45f0",
   "metadata": {},
   "outputs": [
    {
     "name": "stdout",
     "output_type": "stream",
     "text": [
      "(4) transpose of X.T and X:  [[9.6820000e+03 3.5105300e+05 9.1357000e+04]\n",
      " [3.5105300e+05 1.4399307e+07 3.7720360e+06]\n",
      " [9.1357000e+04 3.7720360e+06 9.9835800e+05]]\n"
     ]
    }
   ],
   "source": [
    "XTX = np.dot(X.T, X)\n",
    "print(\"(4) transpose of X.T and X: \", XTX)"
   ]
  },
  {
   "cell_type": "code",
   "execution_count": 12,
   "id": "b493774c",
   "metadata": {},
   "outputs": [
    {
     "name": "stdout",
     "output_type": "stream",
     "text": [
      "(5) the inverse of XTX:  [[ 9.19403586e-04 -3.66412216e-05  5.43072261e-05]\n",
      " [-3.66412216e-05  8.23303633e-06 -2.77534485e-05]\n",
      " [ 5.43072261e-05 -2.77534485e-05  1.00891325e-04]]\n"
     ]
    }
   ],
   "source": [
    "print(\"(5) the inverse of XTX: \",np.linalg.inv(XTX))"
   ]
  },
  {
   "cell_type": "code",
   "execution_count": 13,
   "id": "2d7771d2",
   "metadata": {},
   "outputs": [],
   "source": [
    "y = [950, 1300, 800, 1000, 1300]"
   ]
  },
  {
   "cell_type": "code",
   "execution_count": 14,
   "id": "0fd7561c",
   "metadata": {},
   "outputs": [
    {
     "name": "stdout",
     "output_type": "stream",
     "text": [
      "[23.12330961 -1.48124183  5.69922946]\n"
     ]
    }
   ],
   "source": [
    "w = np.dot(np.dot(np.linalg.inv(XTX), X.T), y)\n",
    "print(w)"
   ]
  },
  {
   "cell_type": "code",
   "execution_count": 15,
   "id": "5538acc3",
   "metadata": {},
   "outputs": [
    {
     "name": "stdout",
     "output_type": "stream",
     "text": [
      "(7) last element of result w:  5.6992294550655656\n"
     ]
    }
   ],
   "source": [
    "print(\"(7) last element of result w: \", w[-1])"
   ]
  }
 ],
 "metadata": {
  "kernelspec": {
   "display_name": "Python 3 (ipykernel)",
   "language": "python",
   "name": "python3"
  },
  "language_info": {
   "codemirror_mode": {
    "name": "ipython",
    "version": 3
   },
   "file_extension": ".py",
   "mimetype": "text/x-python",
   "name": "python",
   "nbconvert_exporter": "python",
   "pygments_lexer": "ipython3",
   "version": "3.11.4"
  }
 },
 "nbformat": 4,
 "nbformat_minor": 5
}
